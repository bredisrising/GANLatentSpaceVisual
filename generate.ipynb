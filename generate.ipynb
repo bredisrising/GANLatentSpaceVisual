{
 "cells": [
  {
   "cell_type": "code",
   "execution_count": 1,
   "metadata": {},
   "outputs": [],
   "source": [
    "import torch\n",
    "from torch import nn\n",
    "import matplotlib.pyplot as plt"
   ]
  },
  {
   "cell_type": "code",
   "execution_count": 7,
   "metadata": {},
   "outputs": [],
   "source": [
    "class Generator(nn.Module):\n",
    "    def __init__(self):\n",
    "        super().__init__()\n",
    "   \n",
    "\n",
    "        self.a = nn.Sequential(\n",
    "            nn.ConvTranspose2d(2, 64 * 8, 3, 1, 0, bias=False),\n",
    "            nn.BatchNorm2d(64 * 8),\n",
    "            nn.ReLU(True),\n",
    "        )\n",
    "        \n",
    "        self.b = nn.Sequential(\n",
    "            nn.ConvTranspose2d(64 * 8, 64 * 4, 3, 2, 0, bias=False),\n",
    "            nn.BatchNorm2d(64 * 4),\n",
    "            nn.ReLU(True),\n",
    "        )\n",
    "        \n",
    "        self.c = nn.Sequential(\n",
    "            nn.ConvTranspose2d(64 * 4, 64 * 1, 4, 2, 1, bias=False),\n",
    "            nn.BatchNorm2d(64 * 1),\n",
    "            nn.ReLU(True),\n",
    "        )\n",
    "        \n",
    "        self.d = nn.Sequential(\n",
    "            nn.ConvTranspose2d(64, 1, 4, 2, 1, bias=False),\n",
    "            nn.Tanh()\n",
    "        )\n",
    "        \n",
    "        \n",
    "        self.tanh = nn.Tanh()\n",
    "        \n",
    "    def forward(self, x):\n",
    "        x = self.a(x)\n",
    "        #print(x.shape)\n",
    "        x = self.b(x)\n",
    "        #print(x.shape)\n",
    "        x = self.c(x)\n",
    "        x = self.d(x)\n",
    "        \n",
    "        return x"
   ]
  },
  {
   "cell_type": "code",
   "execution_count": 8,
   "metadata": {},
   "outputs": [
    {
     "data": {
      "text/plain": [
       "<All keys matched successfully>"
      ]
     },
     "execution_count": 8,
     "metadata": {},
     "output_type": "execute_result"
    }
   ],
   "source": [
    "G = Generator()\n",
    "G.load_state_dict(torch.load(\"./models/third_gan.pth\"))"
   ]
  },
  {
   "cell_type": "code",
   "execution_count": 48,
   "metadata": {},
   "outputs": [
    {
     "data": {
      "text/plain": [
       "Text(0.5, 1.0, '(tensor([1.3267]), tensor([0.4637]))')"
      ]
     },
     "execution_count": 48,
     "metadata": {},
     "output_type": "execute_result"
    },
    {
     "data": {
      "image/png": "[encoded data removed]",
      "text/plain": [
       "<Figure size 640x480 with 1 Axes>"
      ]
     },
     "metadata": {},
     "output_type": "display_data"
    }
   ],
   "source": [
    "tensor = torch.randn(1, 2, 1, 1)\n",
    "\n",
    "img = G(yes)\n",
    "img = img.squeeze().detach().numpy()\n",
    "\n",
    "\n",
    "plt.imshow(img)\n",
    "plt.title(f\"{yes[0][0][0], yes[0, 1, 0]}\")"
   ]
  },
  {
   "cell_type": "code",
   "execution_count": 46,
   "metadata": {},
   "outputs": [],
   "source": [
    "yes[0] += .1"
   ]
  },
  {
   "cell_type": "code",
   "execution_count": 33,
   "metadata": {},
   "outputs": [],
   "source": [
    "sus = torch.randn(1, 2, 1, 1)"
   ]
  },
  {
   "cell_type": "code",
   "execution_count": 35,
   "metadata": {},
   "outputs": [
    {
     "data": {
      "text/plain": [
       "tensor([[-0.7227]])"
      ]
     },
     "execution_count": 35,
     "metadata": {},
     "output_type": "execute_result"
    }
   ],
   "source": [
    "sus[0][0]"
   ]
  }
 ],
 "metadata": {
  "kernelspec": {
   "display_name": "Python 3",
   "language": "python",
   "name": "python3"
  },
  "language_info": {
   "codemirror_mode": {
    "name": "ipython",
    "version": 3
   },
   "file_extension": ".py",
   "mimetype": "text/x-python",
   "name": "python",
   "nbconvert_exporter": "python",
   "pygments_lexer": "ipython3",
   "version": "3.11.2"
  },
  "orig_nbformat": 4,
  "vscode": {
   "interpreter": {
    "hash": "c986ee6c7f88e8f18b73770451107789ddc46052b8e8682ea568134810410370"
   }
  }
 },
 "nbformat": 4,
 "nbformat_minor": 2
}
